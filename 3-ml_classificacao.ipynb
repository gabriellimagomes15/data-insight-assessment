{
 "cells": [
  {
   "cell_type": "markdown",
   "metadata": {},
   "source": [
    "\n",
    "# Modelo de Machine Learning - Classificação\n",
    "Este script tem como objetivo desenvolver um algoritmo para classificar se determinado cliente irá contratar ou não o novo serivço oferecido:\n",
    "- Inicialmente será desenvolvido o algoritmo de árvore de decisão\n",
    "\n",
    "\n",
    "1. [Seleção dos Dados](#selecao)\n",
    "2. [Modelo de ML](#modelo)\n",
    "    \n",
    "    2.1. [Base de Treino e Teste](#split_base),\n",
    "    \n",
    "    2.2. [Balanceando a base de dados](#imblearn)\n",
    "    \n",
    "    2.3. [Árvore de Decisão](#arvore)\n",
    "    \n",
    "    2.3.1.[Resultado](#resultados)\n",
    "    \n",
    "    \n",
    "3. [Conclusão](#conclusao)\n"
   ]
  },
  {
   "cell_type": "code",
   "execution_count": 1,
   "metadata": {},
   "outputs": [],
   "source": [
    "import pandas as pd\n",
    "import numpy as np\n",
    "\n",
    "import seaborn as sns \n",
    "import matplotlib.pyplot as plt\n",
    "\n",
    "from sklearn.preprocessing import StandardScaler\n",
    "from sklearn.model_selection import train_test_split\n",
    "\n",
    "from sklearn.tree import DecisionTreeClassifier\n",
    "from sklearn.pipeline import Pipeline\n",
    "#from sklearn.naive_bayes import GaussianNB\n",
    "#from sklearn.ensemble import RandomForestClassifier\n",
    "\n",
    "import sklearn.metrics as metrics\n",
    "from sklearn.metrics import accuracy_score\n",
    "from sklearn.metrics import confusion_matrix\n",
    "\n",
    "from sklearn.model_selection import cross_val_score\n",
    "import warnings\n",
    "\n",
    "from imblearn.over_sampling import SMOTE\n",
    "\n",
    "warnings.filterwarnings('ignore')"
   ]
  },
  {
   "cell_type": "markdown",
   "metadata": {},
   "source": [
    "<font color='red'> **FUNÇÕES** </font>\n",
    "\n",
    "Funções desenvolvidas para automatizar a teste, execução e validação dos modelos"
   ]
  },
  {
   "cell_type": "code",
   "execution_count": 2,
   "metadata": {},
   "outputs": [],
   "source": [
    "## função para plotar matriz de confusão\n",
    "def plot_cm(cm, labels):\n",
    "    \"\"\"\n",
    "    Função para criar e plotar a matriz de confusão\n",
    "    \"\"\"\n",
    "    # calcula porcentagens \n",
    "    percent = (cm*100.0)/np.array(np.matrix(cm.sum(axis=1)).T)\n",
    "    \n",
    "    print('Confusion Matrix Stats')\n",
    "    for i, label_i in enumerate(labels):\n",
    "        for j, label_j in enumerate(labels):\n",
    "            print(\"%s/%s: %.2f%% (%d/%d)\" % (label_i, label_j, (percent[i][j]), cm[i][j], cm[i].sum()) )\n",
    "\n",
    "    # Show confusion matrix\n",
    "    fig = plt.figure()\n",
    "    ax = fig.add_subplot(111)\n",
    "    ax.grid(b=False)\n",
    "    cax = ax.matshow(percent, cmap='coolwarm')\n",
    "    plt.title('Confusion matrix of the classifier')\n",
    "    fig.colorbar(cax)\n",
    "    ax.set_xticklabels([''] + labels)\n",
    "    ax.set_yticklabels([''] + labels)\n",
    "    plt.xlabel('Predicted')\n",
    "    plt.ylabel('True')\n",
    "    plt.show()\n",
    "    \n",
    "\n",
    "## função para executar modelos de ML\n",
    "def run_ml(modelos, X_train,X_test,y_train,y_test):\n",
    "    \"\"\"\n",
    "    Função para executar algoritmos \n",
    "    \"\"\"\n",
    "    lista_metrics = list()\n",
    "    \n",
    "    for m in modelos:\n",
    "        \n",
    "        print(\"\\n==>\",m.__class__.__name__)\n",
    "        \n",
    "        clf = Pipeline([('clf', m )])\n",
    "\n",
    "        clf       = clf.fit(np.asarray(X_train), y_train)\n",
    "        \n",
    "        predicted = clf.predict(np.asarray(X_test))\n",
    "        print(\" Accuracy  = %f \\n\" % accuracy_score(y_test, predicted))\n",
    "        \n",
    "        labels = list(np.unique(y_train)) #[0,1]\n",
    "        cm     = confusion_matrix(y_test, predicted,labels=labels)\n",
    "        \n",
    "        if plotCm:\n",
    "            plot_cm(cm,labels)\n",
    "\n",
    "        if hasattr(clf, 'predict_proba') and plotAuc:\n",
    "            plot_auc_curve(clf, X_test, y_test)\n",
    "        \n",
    "        metric = get_metrics(predicted, y_test)\n",
    "        metric['modelo'] = m.__class__.__name__\n",
    "        \n",
    "        etc_eval     = cross_val_score(estimator = clf, X = X_train, y = y_train, cv = 10)\n",
    "        metric[\"CV\"] = etc_eval.mean()\n",
    "        \n",
    "        print(metric)\n",
    "        \n",
    "        lista_metrics.append(metric)\n",
    "        \n",
    "    print(\"\\n\",\"=\"*30,'FEATURE IMPORTANCES','='*40)\n",
    "\n",
    "    ##  CHECKING FEATURES IMPORTANCES \n",
    "    if feat_import:\n",
    "        for m in modelos:\n",
    "            if hasattr(m, 'feature_importances_'):\n",
    "                print(\"\\n==>\",m.__class__.__name__)\n",
    "                cols = X_train.columns\n",
    "                m.fit(np.asarray(X_train),y_train)\n",
    "\n",
    "                x_labels = X_train.columns[:]\n",
    "                prob     = list()        \n",
    "                cols     = list()        \n",
    "                features = m.feature_importances_\n",
    "                mean_features = np.mean(features)\n",
    "                for i,l in zip(x_labels,features):\n",
    "                    l = l* 100\n",
    "                    if l > int( mean_features*100 ):\n",
    "                        cols.append((i,str(round(l,2))+\"%\" ))\n",
    "                        \n",
    "                print(\"  Cols: \", cols)\n",
    "                cols = [c[0] for c in cols]\n",
    "                \n",
    "                clf  = m.fit(np.asarray(X_train.loc[:,cols]), y_train)\n",
    "                predicted = clf.predict(np.asarray(X_test.loc[:,cols]))\n",
    "\n",
    "                print(\"  Accuracy  = %f \\n\" % accuracy_score(y_test, predicted))\n",
    "                labels = list(np.unique(y_train)) #[0,1]\n",
    "                cm     = confusion_matrix(y_test, predicted,labels=labels)    \n",
    "\n",
    "                if plotCm:\n",
    "                    plot_cm(cm,labels)\n",
    "\n",
    "                if hasattr(clf, 'predict_proba') and plotAuc:\n",
    "                    plot_auc_curve(clf, X_test.loc[:,cols], y_test)\n",
    "                \n",
    "                metric = get_metrics(predicted, y_test)\n",
    "                metric['modelo'] = m.__class__.__name__ + ' feature_importance'\n",
    "                metric['features'] = cols\n",
    "\n",
    "                etc_eval     = cross_val_score(estimator = clf, X = X_train, y = y_train, cv = 10)\n",
    "                metric[\"CV\"] = etc_eval.mean()\n",
    "\n",
    "                print(metric)\n",
    "\n",
    "                lista_metrics.append(metric)\n",
    "                    \n",
    "    return lista_metrics\n",
    "\n",
    "def get_metrics(predicted, y_test):\n",
    "    \"\"\"\n",
    "    Função para calcular as métricas do modelo ML\n",
    "    \"\"\"\n",
    "    \n",
    "    metric = dict()\n",
    "\n",
    "    metric[\"ACC\"]       = accuracy_score(y_pred=predicted,y_true=y_test)\n",
    "    metric[\"PRECISION\"] = np.mean(metrics.precision_score(y_pred=predicted,y_true=y_test,average=None))\n",
    "    metric[\"RECALL\"]    = np.mean(metrics.recall_score(y_pred=predicted,y_true=y_test,average=None))\n",
    "    metric[\"FSCORE\"]    = np.mean(metrics.f1_score(y_pred=predicted,y_true=y_test,average=None,pos_label='H'))\n",
    "        \n",
    "    return metric\n",
    "\n",
    "## função para plotar AUC Curve \n",
    "def plot_auc_curve(clf, X_test, y_test):\n",
    "    y_pred_proba = clf.predict_proba(X_test)[::,1]\n",
    "    fpr, tpr, _  = metrics.roc_curve(y_test,  y_pred_proba)\n",
    "    auc          = metrics.roc_auc_score(y_test, y_pred_proba)\n",
    "\n",
    "    plt.plot(fpr,tpr,label=\"data 1, auc=\"+str(auc))\n",
    "    plt.legend(loc=4)\n",
    "    plt.show()"
   ]
  },
  {
   "cell_type": "markdown",
   "metadata": {},
   "source": [
    "## <a id = \"selecao\"> 1. Importação e Seleção dos Dados </a>\n"
   ]
  },
  {
   "cell_type": "code",
   "execution_count": 3,
   "metadata": {},
   "outputs": [],
   "source": [
    "dados = pd.read_csv('data/dados_limpos.csv')"
   ]
  },
  {
   "cell_type": "code",
   "execution_count": 4,
   "metadata": {},
   "outputs": [
    {
     "name": "stdout",
     "output_type": "stream",
     "text": [
      "<class 'pandas.core.frame.DataFrame'>\n",
      "Int64Index: 31140 entries, 0 to 40689\n",
      "Data columns (total 27 columns):\n",
      "age              31140 non-null int64\n",
      "job              31140 non-null object\n",
      "marital          31140 non-null object\n",
      "education        31140 non-null object\n",
      "default          31140 non-null object\n",
      "housing          31140 non-null object\n",
      "loan             31140 non-null object\n",
      "contact          31140 non-null object\n",
      "day              31140 non-null int64\n",
      "month            31140 non-null object\n",
      "duration         31140 non-null int64\n",
      "campaign         31140 non-null int64\n",
      "pdays            31140 non-null int64\n",
      "poutcome         31140 non-null object\n",
      "y                31140 non-null object\n",
      "month_new        31140 non-null int64\n",
      "job_new          31140 non-null int64\n",
      "marital_new      31140 non-null int64\n",
      "education_new    31140 non-null int64\n",
      "default_new      31140 non-null int64\n",
      "housing_new      31140 non-null int64\n",
      "loan_new         31140 non-null int64\n",
      "contact_new      31140 non-null int64\n",
      "poutcome_new     31140 non-null int64\n",
      "y_new            31140 non-null int64\n",
      "balance_new      31140 non-null float64\n",
      "duration_new     31140 non-null float64\n",
      "dtypes: float64(2), int64(15), object(10)\n",
      "memory usage: 6.7+ MB\n"
     ]
    }
   ],
   "source": [
    "dados.info()"
   ]
  },
  {
   "cell_type": "code",
   "execution_count": 5,
   "metadata": {},
   "outputs": [],
   "source": [
    "features = ['age', 'day', 'campaign', 'pdays',\n",
    "            'month_new', 'job_new', 'marital_new', 'education_new',\n",
    "            'default_new', 'housing_new', 'loan_new', 'contact_new', 'poutcome_new',\n",
    "            'balance_new', 'duration_new','y_new']"
   ]
  },
  {
   "cell_type": "code",
   "execution_count": 6,
   "metadata": {},
   "outputs": [
    {
     "data": {
      "text/plain": [
       "Index(['age', 'day', 'campaign', 'pdays', 'month_new', 'job_new',\n",
       "       'marital_new', 'education_new', 'default_new', 'housing_new',\n",
       "       'loan_new', 'contact_new', 'poutcome_new', 'balance_new',\n",
       "       'duration_new', 'y_new'],\n",
       "      dtype='object')"
      ]
     },
     "execution_count": 6,
     "metadata": {},
     "output_type": "execute_result"
    }
   ],
   "source": [
    "dados_selec = dados[features]\n",
    "dados_selec.columns"
   ]
  },
  {
   "cell_type": "markdown",
   "metadata": {},
   "source": [
    "## <a id = \"modelo\"> 2. Modelo ML </a>\n",
    "- Pra validar o modelo serão utilizadas as seguintes métricas:\n",
    "    - matriz de confusão\n",
    "    - acurácia\n",
    "    - precision\n",
    "    - recall\n",
    "    - fscore\n",
    "    - cross-validation\n",
    "    - curva AUC\n",
    "\n",
    "### <a id = \"split_base\"> 2.1 Base de Treino e Teste </a>\n",
    "\n",
    "**Dividindo dados em base de treino e teste** - 80% treino e 20% teste"
   ]
  },
  {
   "cell_type": "code",
   "execution_count": 7,
   "metadata": {
    "scrolled": true
   },
   "outputs": [],
   "source": [
    "x = dados_selec.drop(columns=['y_new'])\n",
    "y = dados_selec.y_new\n",
    "\n",
    "x_treino, x_teste, y_treino, y_teste = train_test_split(x, y, test_size = .2, random_state = 42)"
   ]
  },
  {
   "cell_type": "markdown",
   "metadata": {},
   "source": [
    "### <a id = \"imblearn\"> 2.2 Balancemaento da base de treino  </a>\n",
    "Como foi identificado na análise exploratória, os dados estão bem desbalanceado, para resolver este problema pode-se utilizar duas técnicas:\n",
    "- **undersampling**: diminuir a classe majoritária até igualar com a classe minoritária\n",
    "- **oversampling**: \"aumentar\" a classe minoritária até igualar a classe majoritária. Essa técnica é a mais recomendada para evitar que se perca informações da base de dados."
   ]
  },
  {
   "cell_type": "code",
   "execution_count": 8,
   "metadata": {},
   "outputs": [],
   "source": [
    "smote = SMOTE()\n",
    "x_treino_balanc, y_treino_balanc = smote.fit_sample(x_treino,y_treino)"
   ]
  },
  {
   "cell_type": "code",
   "execution_count": 9,
   "metadata": {},
   "outputs": [
    {
     "name": "stdout",
     "output_type": "stream",
     "text": [
      "0    22792\n",
      "1     2120\n",
      "Name: y_new, dtype: int64 \n",
      " 1    22792\n",
      "0    22792\n",
      "Name: y_new, dtype: int64\n"
     ]
    }
   ],
   "source": [
    "print(y_treino.value_counts(),'\\n',y_treino_balanc.value_counts())"
   ]
  },
  {
   "cell_type": "code",
   "execution_count": 10,
   "metadata": {},
   "outputs": [],
   "source": [
    "## VARIAVEIS GLOBAIS QUE SÃO UTILIZADAS NAS FUNÇÕES\n",
    "global plotAu, plotCm, feat_import\n",
    "feat_import = True ## indica se vai utilizar feature importance\n",
    "plotAuc = True ## indica se vai plotar a curva AUCA\n",
    "plotCm  = True ## indica se vai plotar a matriz de confusão\n"
   ]
  },
  {
   "cell_type": "markdown",
   "metadata": {},
   "source": [
    "### <a id = \"arvore\"> 2.3 Árvore de decisão </a>\n",
    "\n",
    "O primeiro modelo a ser elaborador será árvore de decisão, este tipo de algoritmo se comporta bem para classificação binária, além de,  uma das vantagens deste modelo é conseguir generalizar bem dados discretos, então, não será necessário realizar transformações mais avançadas na base de dados.\n",
    "\n",
    "- Foi alterado o valor do parâmetro *max_depth* para evitar overfitting\n",
    "- Serã treinado o modelo de árvore de decisão com todas as colunas e com as colunas mais importantes(feature_importance)"
   ]
  },
  {
   "cell_type": "code",
   "execution_count": 11,
   "metadata": {},
   "outputs": [
    {
     "name": "stdout",
     "output_type": "stream",
     "text": [
      "\n",
      "==> DecisionTreeClassifier\n",
      " Accuracy  = 0.876204 \n",
      "\n",
      "Confusion Matrix Stats\n",
      "0/0: 89.62% (5157/5754)\n",
      "0/1: 10.38% (597/5754)\n",
      "1/0: 36.71% (174/474)\n",
      "1/1: 63.29% (300/474)\n"
     ]
    },
    {
     "data": {
      "image/png": "[encoded data removed]",
      "text/plain": [
       "<Figure size 432x288 with 2 Axes>"
      ]
     },
     "metadata": {
      "needs_background": "light"
     },
     "output_type": "display_data"
    },
    {
     "data": {
      "image/png": "[encoded data removed]",
      "text/plain": [
       "<Figure size 432x288 with 1 Axes>"
      ]
     },
     "metadata": {
      "needs_background": "light"
     },
     "output_type": "display_data"
    },
    {
     "name": "stdout",
     "output_type": "stream",
     "text": [
      "{'ACC': 0.876204238921002, 'PRECISION': 0.6509044404251274, 'RECALL': 0.764578741040905, 'FSCORE': 0.684041655439517, 'modelo': 'DecisionTreeClassifier', 'CV': 0.917670023015486}\n",
      "\n",
      " ============================== FEATURE IMPORTANCES ========================================\n",
      "\n",
      "==> DecisionTreeClassifier\n",
      "  Cols:  [('day', '6.1%'), ('month_new', '10.61%'), ('housing_new', '27.36%'), ('contact_new', '7.8%'), ('duration_new', '22.87%')]\n",
      "  Accuracy  = 0.846660 \n",
      "\n",
      "Confusion Matrix Stats\n",
      "0/0: 86.13% (4956/5754)\n",
      "0/1: 13.87% (798/5754)\n",
      "1/0: 33.12% (157/474)\n",
      "1/1: 66.88% (317/474)\n"
     ]
    },
    {
     "data": {
      "image/png": "[encoded data removed]",
      "text/plain": [
       "<Figure size 432x288 with 2 Axes>"
      ]
     },
     "metadata": {
      "needs_background": "light"
     },
     "output_type": "display_data"
    },
    {
     "data": {
      "image/png": "[encoded data removed]",
      "text/plain": [
       "<Figure size 432x288 with 1 Axes>"
      ]
     },
     "metadata": {
      "needs_background": "light"
     },
     "output_type": "display_data"
    },
    {
     "name": "stdout",
     "output_type": "stream",
     "text": [
      "{'ACC': 0.846660244059088, 'PRECISION': 0.6267994446583447, 'RECALL': 0.7650451199605778, 'FSCORE': 0.6555561687762843, 'modelo': 'DecisionTreeClassifier feature_importance', 'features': ['day', 'month_new', 'housing_new', 'contact_new', 'duration_new'], 'CV': 0.917670023015486}\n"
     ]
    }
   ],
   "source": [
    "modelo_dt = DecisionTreeClassifier(random_state=42, max_depth=15)\n",
    "resultados = run_ml([modelo_dt], x_treino_balanc,x_teste,y_treino_balanc,y_teste)"
   ]
  },
  {
   "cell_type": "code",
   "execution_count": 12,
   "metadata": {},
   "outputs": [
    {
     "data": {
      "text/html": [
       "<div>\n",
       "<style scoped>\n",
       "    .dataframe tbody tr th:only-of-type {\n",
       "        vertical-align: middle;\n",
       "    }\n",
       "\n",
       "    .dataframe tbody tr th {\n",
       "        vertical-align: top;\n",
       "    }\n",
       "\n",
       "    .dataframe thead th {\n",
       "        text-align: right;\n",
       "    }\n",
       "</style>\n",
       "<table border=\"1\" class=\"dataframe\">\n",
       "  <thead>\n",
       "    <tr style=\"text-align: right;\">\n",
       "      <th></th>\n",
       "      <th>modelo</th>\n",
       "      <th>features</th>\n",
       "      <th>ACC</th>\n",
       "      <th>PRECISION</th>\n",
       "      <th>RECALL</th>\n",
       "      <th>FSCORE</th>\n",
       "      <th>CV</th>\n",
       "    </tr>\n",
       "  </thead>\n",
       "  <tbody>\n",
       "    <tr>\n",
       "      <td>0</td>\n",
       "      <td>DecisionTreeClassifier</td>\n",
       "      <td>NaN</td>\n",
       "      <td>0.876204</td>\n",
       "      <td>0.650904</td>\n",
       "      <td>0.764579</td>\n",
       "      <td>0.684042</td>\n",
       "      <td>0.91767</td>\n",
       "    </tr>\n",
       "    <tr>\n",
       "      <td>1</td>\n",
       "      <td>DecisionTreeClassifier feature_importance</td>\n",
       "      <td>[day, month_new, housing_new, contact_new, dur...</td>\n",
       "      <td>0.846660</td>\n",
       "      <td>0.626799</td>\n",
       "      <td>0.765045</td>\n",
       "      <td>0.655556</td>\n",
       "      <td>0.91767</td>\n",
       "    </tr>\n",
       "  </tbody>\n",
       "</table>\n",
       "</div>"
      ],
      "text/plain": [
       "                                      modelo  \\\n",
       "0                     DecisionTreeClassifier   \n",
       "1  DecisionTreeClassifier feature_importance   \n",
       "\n",
       "                                            features       ACC  PRECISION  \\\n",
       "0                                                NaN  0.876204   0.650904   \n",
       "1  [day, month_new, housing_new, contact_new, dur...  0.846660   0.626799   \n",
       "\n",
       "     RECALL    FSCORE       CV  \n",
       "0  0.764579  0.684042  0.91767  \n",
       "1  0.765045  0.655556  0.91767  "
      ]
     },
     "execution_count": 12,
     "metadata": {},
     "output_type": "execute_result"
    }
   ],
   "source": [
    "pd.DataFrame(resultados)[['modelo','features','ACC', 'PRECISION', 'RECALL', 'FSCORE',  'CV']]"
   ]
  },
  {
   "cell_type": "code",
   "execution_count": null,
   "metadata": {},
   "outputs": [],
   "source": []
  },
  {
   "cell_type": "code",
   "execution_count": 27,
   "metadata": {},
   "outputs": [],
   "source": [
    "modelo_dt = DecisionTreeClassifier(random_state=42, max_depth=15)\n",
    "modelo_dt.fit(x_treino_balanc[['day','month_new','housing_new','contact_new','duration_new']], y_treino_balanc)\n",
    "\n",
    "previsao_teste  = modelo_dt.predict(x_teste[['day','month_new','housing_new','contact_new','duration_new']])\n",
    "\n",
    "x_teste['y'] = previsao_teste\n",
    "x_teste.to_csv('data/dados_previstos.csv',index=False)"
   ]
  },
  {
   "cell_type": "code",
   "execution_count": null,
   "metadata": {},
   "outputs": [],
   "source": []
  },
  {
   "cell_type": "markdown",
   "metadata": {},
   "source": [
    "### <a id = \"resultados\"> 2.3.1 Resultados </a>\n",
    "- O modelo com todas as colunas teve um resultado um pouco melhor nas métricas: `acurárica(acc), precision, recall, fscore`\n",
    "- A métrica de `cross-validation` é igual para ambos os modelos.\n",
    "- Mas, pela matriz de confusão podemos identificar que o modelo com `features_importance` teve um resultado melhor para os *verdadeiro positivo* (que é a classe alvo do modelo)\n",
    "- Por fim, pela `curva AUC` é possível observar que o modelo com `features_importance` também teve um melhor resultado."
   ]
  },
  {
   "cell_type": "markdown",
   "metadata": {},
   "source": [
    "## <a id = \"conclusao\"> 3. Conclusão </a>\n",
    "- a eliminação dos registros outlier pode ter interferido no resultado do modelo. Poderia tentar fazer a correção destes registros ao invés de excluir e testar novamente o modelo\n",
    "- o desbalanceamento da base pode está inteferindo diretamente no resultado\n",
    "- o modelo com `features_importance`confirma análise feita anteriormente, que os campos `month, duration` são importantes, além das colunas  `housing` e `contact`, para definir se o cliente vai adquirir ou não o serviço.\n",
    "- em relação a coluna `contact` deve-se fazer uma análise mais aprofundada, porque é um atributo muito deslabanceado, então, não necessariamente é tão relevante para o modelo.\n",
    "- Poderia treinar outros modelos como *naive bayes e random forest* outros algoritmos que generalizam bem para classificação binária. \n",
    "- Por fim, poderia treinar este modelo e outros com \"tuning\" dos hiperparâmetros."
   ]
  }
 ],
 "metadata": {
  "kernelspec": {
   "display_name": "Python 3",
   "language": "python",
   "name": "python3"
  },
  "language_info": {
   "codemirror_mode": {
    "name": "ipython",
    "version": 3
   },
   "file_extension": ".py",
   "mimetype": "text/x-python",
   "name": "python",
   "nbconvert_exporter": "python",
   "pygments_lexer": "ipython3",
   "version": "3.7.4"
  }
 },
 "nbformat": 4,
 "nbformat_minor": 2
}
